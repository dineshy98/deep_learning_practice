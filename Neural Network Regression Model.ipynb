{
 "cells": [
  {
   "cell_type": "code",
   "execution_count": 1,
   "metadata": {},
   "outputs": [
    {
     "name": "stderr",
     "output_type": "stream",
     "text": [
      "Using TensorFlow backend.\n"
     ]
    }
   ],
   "source": [
    "# Import the Sequential model and Dense layer\n",
    "from keras.models import Sequential\n",
    "from keras.layers import Dense\n",
    "\n",
    "# Create a Sequential model\n",
    "model = Sequential()"
   ]
  },
  {
   "cell_type": "code",
   "execution_count": 2,
   "metadata": {},
   "outputs": [
    {
     "name": "stdout",
     "output_type": "stream",
     "text": [
      "WARNING:tensorflow:From C:\\ProgramData\\Anaconda3\\lib\\site-packages\\tensorflow_core\\python\\ops\\resource_variable_ops.py:1630: calling BaseResourceVariable.__init__ (from tensorflow.python.ops.resource_variable_ops) with constraint is deprecated and will be removed in a future version.\n",
      "Instructions for updating:\n",
      "If using Keras pass *_constraint arguments to layers.\n"
     ]
    }
   ],
   "source": [
    "model.add(Dense(7, input_shape = (13,) , activation = 'relu'))"
   ]
  },
  {
   "cell_type": "code",
   "execution_count": 3,
   "metadata": {},
   "outputs": [],
   "source": [
    "model.add(Dense(1))"
   ]
  },
  {
   "cell_type": "code",
   "execution_count": 4,
   "metadata": {},
   "outputs": [
    {
     "name": "stdout",
     "output_type": "stream",
     "text": [
      "Model: \"sequential_1\"\n",
      "_________________________________________________________________\n",
      "Layer (type)                 Output Shape              Param #   \n",
      "=================================================================\n",
      "dense_1 (Dense)              (None, 7)                 98        \n",
      "_________________________________________________________________\n",
      "dense_2 (Dense)              (None, 1)                 8         \n",
      "=================================================================\n",
      "Total params: 106\n",
      "Trainable params: 106\n",
      "Non-trainable params: 0\n",
      "_________________________________________________________________\n"
     ]
    }
   ],
   "source": [
    "model.summary()"
   ]
  },
  {
   "cell_type": "code",
   "execution_count": 5,
   "metadata": {},
   "outputs": [],
   "source": [
    "from keras.datasets import boston_housing\n",
    "\n",
    "(x_train, y_train), (x_test, y_test) = boston_housing.load_data()"
   ]
  },
  {
   "cell_type": "code",
   "execution_count": 6,
   "metadata": {},
   "outputs": [
    {
     "data": {
      "text/plain": [
       "(404, 13)"
      ]
     },
     "execution_count": 6,
     "metadata": {},
     "output_type": "execute_result"
    }
   ],
   "source": [
    "x_train.shape"
   ]
  },
  {
   "cell_type": "code",
   "execution_count": 7,
   "metadata": {},
   "outputs": [],
   "source": [
    "model.compile(optimizer=\"adam\", loss=\"mse\")"
   ]
  },
  {
   "cell_type": "code",
   "execution_count": 8,
   "metadata": {},
   "outputs": [
    {
     "name": "stdout",
     "output_type": "stream",
     "text": [
      "WARNING:tensorflow:From C:\\ProgramData\\Anaconda3\\lib\\site-packages\\keras\\backend\\tensorflow_backend.py:422: The name tf.global_variables is deprecated. Please use tf.compat.v1.global_variables instead.\n",
      "\n",
      "Epoch 1/3\n",
      "404/404 [==============================] - 2s 4ms/step - loss: 32656.7706\n",
      "Epoch 2/3\n",
      "404/404 [==============================] - 0s 49us/step - loss: 22119.5396\n",
      "Epoch 3/3\n",
      "404/404 [==============================] - 0s 54us/step - loss: 14263.7133\n"
     ]
    },
    {
     "data": {
      "text/plain": [
       "<keras.callbacks.callbacks.History at 0x1a1ef94ca88>"
      ]
     },
     "execution_count": 8,
     "metadata": {},
     "output_type": "execute_result"
    }
   ],
   "source": [
    "model.fit(x_train,y_train,epochs = 5)"
   ]
  },
  {
   "cell_type": "code",
   "execution_count": 12,
   "metadata": {},
   "outputs": [
    {
     "data": {
      "text/plain": [
       "11952.232552608782"
      ]
     },
     "execution_count": 12,
     "metadata": {},
     "output_type": "execute_result"
    }
   ],
   "source": [
    "from sklearn.metrics import mean_squared_error\n",
    "mean_squared_error(y_test,model.predict(x_test))\n"
   ]
  },
  {
   "cell_type": "code",
   "execution_count": 13,
   "metadata": {},
   "outputs": [
    {
     "name": "stdout",
     "output_type": "stream",
     "text": [
      "Epoch 1/15\n",
      "404/404 [==============================] - 0s 44us/step - loss: 8671.1904\n",
      "Epoch 2/15\n",
      "404/404 [==============================] - 0s 47us/step - loss: 5013.3229\n",
      "Epoch 3/15\n",
      "404/404 [==============================] - 0s 44us/step - loss: 2654.2875\n",
      "Epoch 4/15\n",
      "404/404 [==============================] - 0s 49us/step - loss: 1390.6256\n",
      "Epoch 5/15\n",
      "404/404 [==============================] - 0s 49us/step - loss: 711.8284\n",
      "Epoch 6/15\n",
      "404/404 [==============================] - 0s 47us/step - loss: 427.8225\n",
      "Epoch 7/15\n",
      "404/404 [==============================] - 0s 52us/step - loss: 323.1201\n",
      "Epoch 8/15\n",
      "404/404 [==============================] - 0s 49us/step - loss: 282.5921\n",
      "Epoch 9/15\n",
      "404/404 [==============================] - 0s 52us/step - loss: 264.3980\n",
      "Epoch 10/15\n",
      "404/404 [==============================] - 0s 52us/step - loss: 249.2547\n",
      "Epoch 11/15\n",
      "404/404 [==============================] - 0s 49us/step - loss: 235.8174\n",
      "Epoch 12/15\n",
      "404/404 [==============================] - 0s 49us/step - loss: 223.2456\n",
      "Epoch 13/15\n",
      "404/404 [==============================] - 0s 49us/step - loss: 211.9674\n",
      "Epoch 14/15\n",
      "404/404 [==============================] - 0s 49us/step - loss: 201.7569\n",
      "Epoch 15/15\n",
      "404/404 [==============================] - 0s 49us/step - loss: 192.6452\n"
     ]
    },
    {
     "data": {
      "text/plain": [
       "<keras.callbacks.callbacks.History at 0x1a1f8e45348>"
      ]
     },
     "execution_count": 13,
     "metadata": {},
     "output_type": "execute_result"
    }
   ],
   "source": [
    "model.fit(x_train,y_train,epochs = 15)"
   ]
  },
  {
   "cell_type": "code",
   "execution_count": 14,
   "metadata": {},
   "outputs": [
    {
     "data": {
      "text/plain": [
       "159.5296401826149"
      ]
     },
     "execution_count": 14,
     "metadata": {},
     "output_type": "execute_result"
    }
   ],
   "source": [
    "from sklearn.metrics import mean_squared_error\n",
    "mean_squared_error(y_test,model.predict(x_test))\n"
   ]
  },
  {
   "cell_type": "code",
   "execution_count": 15,
   "metadata": {},
   "outputs": [
    {
     "name": "stdout",
     "output_type": "stream",
     "text": [
      "Epoch 1/10\n",
      "404/404 [==============================] - 0s 64us/step - loss: 184.1886\n",
      "Epoch 2/10\n",
      "404/404 [==============================] - 0s 57us/step - loss: 176.3662\n",
      "Epoch 3/10\n",
      "404/404 [==============================] - 0s 52us/step - loss: 169.6217\n",
      "Epoch 4/10\n",
      "404/404 [==============================] - 0s 52us/step - loss: 162.8627\n",
      "Epoch 5/10\n",
      "404/404 [==============================] - 0s 52us/step - loss: 156.9856\n",
      "Epoch 6/10\n",
      "404/404 [==============================] - 0s 54us/step - loss: 151.7057\n",
      "Epoch 7/10\n",
      "404/404 [==============================] - 0s 54us/step - loss: 146.9211\n",
      "Epoch 8/10\n",
      "404/404 [==============================] - 0s 49us/step - loss: 142.2840\n",
      "Epoch 9/10\n",
      "404/404 [==============================] - 0s 32us/step - loss: 137.9777\n",
      "Epoch 10/10\n",
      "404/404 [==============================] - 0s 35us/step - loss: 133.7623\n"
     ]
    },
    {
     "data": {
      "text/plain": [
       "<keras.callbacks.callbacks.History at 0x1a1f8e3dec8>"
      ]
     },
     "execution_count": 15,
     "metadata": {},
     "output_type": "execute_result"
    }
   ],
   "source": [
    "model.fit(x_train,y_train,epochs = 10)"
   ]
  },
  {
   "cell_type": "code",
   "execution_count": 16,
   "metadata": {},
   "outputs": [
    {
     "data": {
      "text/plain": [
       "115.8741839688974"
      ]
     },
     "execution_count": 16,
     "metadata": {},
     "output_type": "execute_result"
    }
   ],
   "source": [
    "from sklearn.metrics import mean_squared_error\n",
    "mean_squared_error(y_test,model.predict(x_test))\n"
   ]
  }
 ],
 "metadata": {
  "kernelspec": {
   "display_name": "Python 3",
   "language": "python",
   "name": "python3"
  },
  "language_info": {
   "codemirror_mode": {
    "name": "ipython",
    "version": 3
   },
   "file_extension": ".py",
   "mimetype": "text/x-python",
   "name": "python",
   "nbconvert_exporter": "python",
   "pygments_lexer": "ipython3",
   "version": "3.7.4"
  }
 },
 "nbformat": 4,
 "nbformat_minor": 2
}
