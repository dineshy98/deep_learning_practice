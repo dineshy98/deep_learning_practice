{
 "cells": [
  {
   "cell_type": "code",
   "execution_count": 1,
   "metadata": {},
   "outputs": [
    {
     "name": "stderr",
     "output_type": "stream",
     "text": [
      "Using TensorFlow backend.\n"
     ]
    }
   ],
   "source": [
    "from keras.datasets import fashion_mnist"
   ]
  },
  {
   "cell_type": "code",
   "execution_count": 2,
   "metadata": {},
   "outputs": [],
   "source": [
    "(X_train,y_train),(X_test,y_test) = fashion_mnist.load_data()"
   ]
  },
  {
   "cell_type": "code",
   "execution_count": 3,
   "metadata": {},
   "outputs": [
    {
     "data": {
      "text/plain": [
       "(60000, 28, 28)"
      ]
     },
     "execution_count": 3,
     "metadata": {},
     "output_type": "execute_result"
    }
   ],
   "source": [
    "X_train.shape"
   ]
  },
  {
   "cell_type": "code",
   "execution_count": 4,
   "metadata": {},
   "outputs": [
    {
     "data": {
      "text/plain": [
       "dtype('uint8')"
      ]
     },
     "execution_count": 4,
     "metadata": {},
     "output_type": "execute_result"
    }
   ],
   "source": [
    "X_train.dtype"
   ]
  },
  {
   "cell_type": "code",
   "execution_count": 5,
   "metadata": {
    "scrolled": true
   },
   "outputs": [
    {
     "name": "stdout",
     "output_type": "stream",
     "text": [
      "WARNING:tensorflow:From C:\\ProgramData\\Anaconda3\\lib\\site-packages\\tensorflow_core\\python\\ops\\resource_variable_ops.py:1630: calling BaseResourceVariable.__init__ (from tensorflow.python.ops.resource_variable_ops) with constraint is deprecated and will be removed in a future version.\n",
      "Instructions for updating:\n",
      "If using Keras pass *_constraint arguments to layers.\n"
     ]
    }
   ],
   "source": [
    "#model making \n",
    "from keras.models import Sequential\n",
    "from keras.layers import Dense\n",
    "model = Sequential()\n",
    "model.add(Dense(100,activation = 'relu',input_shape = (28*28,)))\n",
    "model.add(Dense(50,activation = 'relu'))\n",
    "model.add(Dense(10,activation = 'softmax'))"
   ]
  },
  {
   "cell_type": "code",
   "execution_count": 6,
   "metadata": {},
   "outputs": [],
   "source": [
    "model.compile(optimizer = 'adam',metrics = ['accuracy'],loss = 'categorical_crossentropy')"
   ]
  },
  {
   "cell_type": "code",
   "execution_count": 7,
   "metadata": {},
   "outputs": [],
   "source": [
    "X_train = X_train.reshape(X_train.shape[0],28*28)\n",
    "X_test = X_test.reshape(X_test.shape[0],28*28)"
   ]
  },
  {
   "cell_type": "code",
   "execution_count": 8,
   "metadata": {},
   "outputs": [],
   "source": [
    "import pandas\n",
    "y_train = pandas.get_dummies(y_train)\n",
    "y_test = pandas.get_dummies(y_test)"
   ]
  },
  {
   "cell_type": "code",
   "execution_count": 9,
   "metadata": {},
   "outputs": [
    {
     "name": "stdout",
     "output_type": "stream",
     "text": [
      "WARNING:tensorflow:From C:\\ProgramData\\Anaconda3\\lib\\site-packages\\keras\\backend\\tensorflow_backend.py:422: The name tf.global_variables is deprecated. Please use tf.compat.v1.global_variables instead.\n",
      "\n",
      "Train on 48000 samples, validate on 12000 samples\n",
      "Epoch 1/50\n",
      "48000/48000 [==============================] - 7s 150us/step - loss: 2.1057 - accuracy: 0.6709 - val_loss: 0.7724 - val_accuracy: 0.7531\n",
      "Epoch 2/50\n",
      "48000/48000 [==============================] - 7s 149us/step - loss: 0.7010 - accuracy: 0.7660 - val_loss: 0.6710 - val_accuracy: 0.7705\n",
      "Epoch 3/50\n",
      "48000/48000 [==============================] - 7s 155us/step - loss: 0.5870 - accuracy: 0.7983 - val_loss: 0.5538 - val_accuracy: 0.8148\n",
      "Epoch 4/50\n",
      "48000/48000 [==============================] - 7s 154us/step - loss: 0.5305 - accuracy: 0.8145 - val_loss: 0.5719 - val_accuracy: 0.8064\n",
      "Epoch 5/50\n",
      "48000/48000 [==============================] - 7s 149us/step - loss: 0.4836 - accuracy: 0.8303 - val_loss: 0.4919 - val_accuracy: 0.8395\n",
      "Epoch 6/50\n",
      "48000/48000 [==============================] - 7s 152us/step - loss: 0.4525 - accuracy: 0.8397 - val_loss: 0.5323 - val_accuracy: 0.8299\n",
      "Epoch 7/50\n",
      "48000/48000 [==============================] - 7s 147us/step - loss: 0.4289 - accuracy: 0.8484 - val_loss: 0.5239 - val_accuracy: 0.8344\n",
      "Epoch 8/50\n",
      "48000/48000 [==============================] - 7s 154us/step - loss: 0.4089 - accuracy: 0.8547 - val_loss: 0.4703 - val_accuracy: 0.8365\n",
      "Epoch 9/50\n",
      "48000/48000 [==============================] - 7s 153us/step - loss: 0.3947 - accuracy: 0.8618 - val_loss: 0.4563 - val_accuracy: 0.8394\n",
      "Epoch 10/50\n",
      "48000/48000 [==============================] - 7s 153us/step - loss: 0.3871 - accuracy: 0.8630 - val_loss: 0.4437 - val_accuracy: 0.8468\n",
      "Epoch 11/50\n",
      "48000/48000 [==============================] - 7s 149us/step - loss: 0.3797 - accuracy: 0.8648 - val_loss: 0.4395 - val_accuracy: 0.8497\n",
      "Epoch 12/50\n",
      "48000/48000 [==============================] - 7s 153us/step - loss: 0.3745 - accuracy: 0.8665 - val_loss: 0.4454 - val_accuracy: 0.8420\n",
      "Epoch 13/50\n",
      "48000/48000 [==============================] - 7s 149us/step - loss: 0.3622 - accuracy: 0.8712 - val_loss: 0.4299 - val_accuracy: 0.8603\n",
      "Epoch 14/50\n",
      "48000/48000 [==============================] - 7s 151us/step - loss: 0.3564 - accuracy: 0.8742 - val_loss: 0.4632 - val_accuracy: 0.8424\n",
      "Epoch 15/50\n",
      "48000/48000 [==============================] - 7s 152us/step - loss: 0.3457 - accuracy: 0.8761 - val_loss: 0.3996 - val_accuracy: 0.8633\n",
      "Epoch 16/50\n",
      "48000/48000 [==============================] - 7s 156us/step - loss: 0.3437 - accuracy: 0.8767 - val_loss: 0.4072 - val_accuracy: 0.8618\n",
      "Epoch 17/50\n",
      "48000/48000 [==============================] - 7s 152us/step - loss: 0.3494 - accuracy: 0.8776 - val_loss: 0.3949 - val_accuracy: 0.8690\n",
      "Epoch 18/50\n",
      "48000/48000 [==============================] - 8s 164us/step - loss: 0.3267 - accuracy: 0.8825 - val_loss: 0.3853 - val_accuracy: 0.8716\n",
      "Epoch 19/50\n",
      "48000/48000 [==============================] - 7s 150us/step - loss: 0.3314 - accuracy: 0.8811 - val_loss: 0.4105 - val_accuracy: 0.8688\n",
      "Epoch 20/50\n",
      "48000/48000 [==============================] - 8s 159us/step - loss: 0.3376 - accuracy: 0.8801 - val_loss: 0.4371 - val_accuracy: 0.8556\n",
      "Epoch 21/50\n",
      "48000/48000 [==============================] - 7s 151us/step - loss: 0.3261 - accuracy: 0.8843 - val_loss: 0.4536 - val_accuracy: 0.8536\n",
      "Epoch 22/50\n",
      "48000/48000 [==============================] - 7s 150us/step - loss: 0.3212 - accuracy: 0.8842 - val_loss: 0.4251 - val_accuracy: 0.8549\n",
      "Epoch 23/50\n",
      "48000/48000 [==============================] - 7s 151us/step - loss: 0.3262 - accuracy: 0.8830 - val_loss: 0.4114 - val_accuracy: 0.8676\n",
      "Epoch 24/50\n",
      "48000/48000 [==============================] - 8s 162us/step - loss: 0.3115 - accuracy: 0.8879 - val_loss: 0.4244 - val_accuracy: 0.8653\n",
      "Epoch 25/50\n",
      "48000/48000 [==============================] - 7s 156us/step - loss: 0.3158 - accuracy: 0.8875 - val_loss: 0.4144 - val_accuracy: 0.8718\n",
      "Epoch 26/50\n",
      "48000/48000 [==============================] - 7s 149us/step - loss: 0.3104 - accuracy: 0.8870 - val_loss: 0.4504 - val_accuracy: 0.8582\n",
      "Epoch 27/50\n",
      "48000/48000 [==============================] - 7s 150us/step - loss: 0.3031 - accuracy: 0.8892 - val_loss: 0.4248 - val_accuracy: 0.8719\n",
      "Epoch 28/50\n",
      "48000/48000 [==============================] - 8s 162us/step - loss: 0.3061 - accuracy: 0.8892 - val_loss: 0.4338 - val_accuracy: 0.8728\n",
      "Epoch 29/50\n",
      "48000/48000 [==============================] - 7s 149us/step - loss: 0.3054 - accuracy: 0.8915 - val_loss: 0.4044 - val_accuracy: 0.8773\n",
      "Epoch 30/50\n",
      "48000/48000 [==============================] - 7s 153us/step - loss: 0.3063 - accuracy: 0.8901 - val_loss: 0.4202 - val_accuracy: 0.8695\n",
      "Epoch 31/50\n",
      "48000/48000 [==============================] - 7s 154us/step - loss: 0.2991 - accuracy: 0.8905 - val_loss: 0.4058 - val_accuracy: 0.8698\n",
      "Epoch 32/50\n",
      "48000/48000 [==============================] - 7s 155us/step - loss: 0.2974 - accuracy: 0.8928 - val_loss: 0.4365 - val_accuracy: 0.8665\n",
      "Epoch 33/50\n",
      "48000/48000 [==============================] - 7s 152us/step - loss: 0.2953 - accuracy: 0.8941 - val_loss: 0.4017 - val_accuracy: 0.8724\n",
      "Epoch 34/50\n",
      "48000/48000 [==============================] - 7s 149us/step - loss: 0.2876 - accuracy: 0.8951 - val_loss: 0.4711 - val_accuracy: 0.8690\n",
      "Epoch 35/50\n",
      "48000/48000 [==============================] - 7s 147us/step - loss: 0.2890 - accuracy: 0.8955 - val_loss: 0.4490 - val_accuracy: 0.8637\n",
      "Epoch 36/50\n",
      "48000/48000 [==============================] - 8s 157us/step - loss: 0.2902 - accuracy: 0.8946 - val_loss: 0.4248 - val_accuracy: 0.8720\n",
      "Epoch 37/50\n",
      "48000/48000 [==============================] - 7s 150us/step - loss: 0.2898 - accuracy: 0.8964 - val_loss: 0.4542 - val_accuracy: 0.8696\n",
      "Epoch 38/50\n",
      "48000/48000 [==============================] - 7s 151us/step - loss: 0.2883 - accuracy: 0.8960 - val_loss: 0.4459 - val_accuracy: 0.8679\n",
      "Epoch 39/50\n",
      "48000/48000 [==============================] - 7s 151us/step - loss: 0.2810 - accuracy: 0.8979 - val_loss: 0.4400 - val_accuracy: 0.8749\n",
      "Epoch 40/50\n",
      "48000/48000 [==============================] - 8s 163us/step - loss: 0.2939 - accuracy: 0.8962 - val_loss: 0.4358 - val_accuracy: 0.8659\n",
      "Epoch 41/50\n",
      "48000/48000 [==============================] - 7s 148us/step - loss: 0.2787 - accuracy: 0.8986 - val_loss: 0.4480 - val_accuracy: 0.8687\n",
      "Epoch 42/50\n",
      "48000/48000 [==============================] - 7s 150us/step - loss: 0.2822 - accuracy: 0.8985 - val_loss: 0.4396 - val_accuracy: 0.8699\n",
      "Epoch 43/50\n",
      "48000/48000 [==============================] - 7s 150us/step - loss: 0.2841 - accuracy: 0.8975 - val_loss: 0.4867 - val_accuracy: 0.8687\n",
      "Epoch 44/50\n",
      "48000/48000 [==============================] - 7s 155us/step - loss: 0.2722 - accuracy: 0.8999 - val_loss: 0.4697 - val_accuracy: 0.8660\n",
      "Epoch 45/50\n",
      "48000/48000 [==============================] - 7s 154us/step - loss: 0.2784 - accuracy: 0.9000 - val_loss: 0.5209 - val_accuracy: 0.8646\n",
      "Epoch 46/50\n",
      "48000/48000 [==============================] - 7s 155us/step - loss: 0.2707 - accuracy: 0.9016 - val_loss: 0.4420 - val_accuracy: 0.8725\n",
      "Epoch 47/50\n",
      "48000/48000 [==============================] - 7s 153us/step - loss: 0.2656 - accuracy: 0.9035 - val_loss: 0.4625 - val_accuracy: 0.8712\n",
      "Epoch 48/50\n",
      "48000/48000 [==============================] - 7s 155us/step - loss: 0.2781 - accuracy: 0.9017 - val_loss: 0.4636 - val_accuracy: 0.8658\n",
      "Epoch 49/50\n",
      "48000/48000 [==============================] - 7s 154us/step - loss: 0.2758 - accuracy: 0.9012 - val_loss: 0.5065 - val_accuracy: 0.8645\n",
      "Epoch 50/50\n",
      "48000/48000 [==============================] - 7s 151us/step - loss: 0.2635 - accuracy: 0.9053 - val_loss: 0.4734 - val_accuracy: 0.8661\n"
     ]
    },
    {
     "data": {
      "text/plain": [
       "<keras.callbacks.callbacks.History at 0x24516f31b08>"
      ]
     },
     "execution_count": 9,
     "metadata": {},
     "output_type": "execute_result"
    }
   ],
   "source": [
    "model.fit(X_train,y_train,validation_split = 0.2,epochs = 50)"
   ]
  },
  {
   "cell_type": "code",
   "execution_count": 10,
   "metadata": {},
   "outputs": [
    {
     "name": "stdout",
     "output_type": "stream",
     "text": [
      "10000/10000 [==============================] - 1s 67us/step\n"
     ]
    },
    {
     "data": {
      "text/plain": [
       "[0.49998905470371247, 0.8597999811172485]"
      ]
     },
     "execution_count": 10,
     "metadata": {},
     "output_type": "execute_result"
    }
   ],
   "source": [
    "model.evaluate(X_test,y_test)"
   ]
  },
  {
   "cell_type": "code",
   "execution_count": null,
   "metadata": {},
   "outputs": [],
   "source": []
  },
  {
   "cell_type": "code",
   "execution_count": null,
   "metadata": {},
   "outputs": [],
   "source": []
  }
 ],
 "metadata": {
  "kernelspec": {
   "display_name": "Python 3",
   "language": "python",
   "name": "python3"
  },
  "language_info": {
   "codemirror_mode": {
    "name": "ipython",
    "version": 3
   },
   "file_extension": ".py",
   "mimetype": "text/x-python",
   "name": "python",
   "nbconvert_exporter": "python",
   "pygments_lexer": "ipython3",
   "version": "3.7.4"
  }
 },
 "nbformat": 4,
 "nbformat_minor": 2
}
